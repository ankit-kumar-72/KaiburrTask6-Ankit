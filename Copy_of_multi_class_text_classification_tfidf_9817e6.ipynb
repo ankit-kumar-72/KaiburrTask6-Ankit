{
 "cells": [
  {
   "cell_type": "markdown",
   "metadata": {
    "id": "AEqeUvr9mTHV"
   },
   "source": [
    "<a id='imp'></a>\n",
    "## Importing packages and loading data"
   ]
  },
  {
   "cell_type": "code",
   "execution_count": null,
   "metadata": {
    "_cell_guid": "b1076dfc-b9ad-4769-8c92-a6c4dae69d19",
    "_uuid": "8f2839f25d086af736a60e9eeb907d3b93b6e0e5",
    "execution": {
     "iopub.execute_input": "2021-12-01T06:44:54.842458Z",
     "iopub.status.busy": "2021-12-01T06:44:54.841843Z",
     "iopub.status.idle": "2021-12-01T06:44:55.969918Z",
     "shell.execute_reply": "2021-12-01T06:44:55.968709Z",
     "shell.execute_reply.started": "2021-12-01T06:44:54.842119Z"
    },
    "id": "DqoShQzdmTHY"
   },
   "outputs": [],
   "source": [
    "# Input data files are available in the \"../input/\" directory.\n",
    "import os\n",
    "#print(os.listdir(\"../input\"))\n",
    "\n",
    "import pandas as pd\n",
    "import numpy as np\n",
    "from scipy.stats import randint\n",
    "import seaborn as sns # used for plot interactive graph.\n",
    "import matplotlib.pyplot as plt\n",
    "import seaborn as sns\n",
    "from io import StringIO\n",
    "from sklearn.feature_extraction.text import TfidfVectorizer\n",
    "from sklearn.feature_selection import chi2\n",
    "from IPython.display import display\n",
    "from sklearn.model_selection import train_test_split\n",
    "from sklearn.feature_extraction.text import TfidfTransformer\n",
    "from sklearn.naive_bayes import MultinomialNB\n",
    "from sklearn.linear_model import LogisticRegression\n",
    "from sklearn.ensemble import RandomForestClassifier\n",
    "from sklearn.svm import LinearSVC\n",
    "from sklearn.model_selection import cross_val_score\n",
    "from sklearn.metrics import confusion_matrix\n",
    "from sklearn import metrics\n",
    "#import warnings\n",
    "#warnings.filterwarnings(\"ignore\", category=FutureWarning)"
   ]
  },
  {
   "cell_type": "code",
   "execution_count": null,
   "metadata": {
    "execution": {
     "iopub.execute_input": "2021-12-01T06:44:55.971629Z",
     "iopub.status.busy": "2021-12-01T06:44:55.971285Z",
     "iopub.status.idle": "2021-12-01T06:45:13.018000Z",
     "shell.execute_reply": "2021-12-01T06:45:13.017204Z",
     "shell.execute_reply.started": "2021-12-01T06:44:55.971562Z"
    },
    "id": "r4Ld3fpzmTHe"
   },
   "outputs": [],
   "source": [
    "# loading data\n",
    "df = pd.read_csv('complaints.csv')\n",
    "df.shape"
   ]
  },
  {
   "cell_type": "markdown",
   "metadata": {
    "id": "lvFciXyVmTHj"
   },
   "source": [
    "<a id='eda'></a>\n",
    "## Exploratory Data Analysis (EDA) and Feature Engineering"
   ]
  },
  {
   "cell_type": "code",
   "execution_count": null,
   "metadata": {
    "execution": {
     "iopub.execute_input": "2021-12-01T06:45:13.019752Z",
     "iopub.status.busy": "2021-12-01T06:45:13.019419Z",
     "iopub.status.idle": "2021-12-01T06:45:13.049923Z",
     "shell.execute_reply": "2021-12-01T06:45:13.049170Z",
     "shell.execute_reply.started": "2021-12-01T06:45:13.019689Z"
    },
    "id": "La8h4F39mTHn"
   },
   "outputs": [],
   "source": [
    "df.head(2).T # Columns are shown in rows for easy reading"
   ]
  },
  {
   "cell_type": "markdown",
   "metadata": {
    "id": "Y_lB4m2-mTHq"
   },
   "source": [
    "The dataset contains features that are not necessary to solve our multi-classification problem. For this text classification problem, we are going to build another dataframe that contains ‘Product’ and ‘Consumer complaint narrative’ (renamed as 'Consumer_complaint')."
   ]
  },
  {
   "cell_type": "code",
   "execution_count": null,
   "metadata": {
    "_cell_guid": "79c7e3d0-c299-4dcb-8224-4455121ee9b0",
    "_uuid": "d629ff2d2480ee46fbb7e2d37f6b5fab8052498a",
    "execution": {
     "iopub.execute_input": "2021-12-01T06:46:07.909499Z",
     "iopub.status.busy": "2021-12-01T06:46:07.908927Z",
     "iopub.status.idle": "2021-12-01T06:46:08.134748Z",
     "shell.execute_reply": "2021-12-01T06:46:08.133965Z",
     "shell.execute_reply.started": "2021-12-01T06:46:07.909454Z"
    },
    "id": "4cEm3rSVmTHs"
   },
   "outputs": [],
   "source": [
    "# Create a new dataframe with two columns\n",
    "df1 = df[['Product', 'Consumer complaint narrative']].copy()\n",
    "\n",
    "# Remove missing values (NaN)\n",
    "df1 = df1[pd.notnull(df1['Consumer complaint narrative'])]\n",
    "\n",
    "# Renaming second column for a simpler name\n",
    "df1.columns = ['Product', 'Consumer_complaint']\n",
    "\n",
    "df1.shape"
   ]
  },
  {
   "cell_type": "code",
   "execution_count": null,
   "metadata": {
    "execution": {
     "iopub.execute_input": "2021-12-01T06:46:09.133822Z",
     "iopub.status.busy": "2021-12-01T06:46:09.133491Z",
     "iopub.status.idle": "2021-12-01T06:46:09.203260Z",
     "shell.execute_reply": "2021-12-01T06:46:09.202475Z",
     "shell.execute_reply.started": "2021-12-01T06:46:09.133761Z"
    },
    "id": "HIXreCkWmTHv"
   },
   "outputs": [],
   "source": [
    "# Percentage of complaints with text\n",
    "total = df1['Consumer_complaint'].notnull().sum()\n",
    "round((total/len(df)*100),1)"
   ]
  },
  {
   "cell_type": "markdown",
   "metadata": {
    "id": "DGGbyPzomTH0"
   },
   "source": [
    "From more than 1 million complaints, there are about 380,000 cases with text (~ 30% of the original dataset is not null). This is still a good number to work with. Now let's have a look at the categories we want to classify each complaint."
   ]
  },
  {
   "cell_type": "code",
   "execution_count": null,
   "metadata": {
    "execution": {
     "iopub.execute_input": "2021-12-01T06:46:15.491320Z",
     "iopub.status.busy": "2021-12-01T06:46:15.490698Z",
     "iopub.status.idle": "2021-12-01T06:46:15.603943Z",
     "shell.execute_reply": "2021-12-01T06:46:15.602940Z",
     "shell.execute_reply.started": "2021-12-01T06:46:15.491275Z"
    },
    "id": "iOJZyOc1mTH2"
   },
   "outputs": [],
   "source": [
    "pd.DataFrame(df.Product.unique()).values"
   ]
  },
  {
   "cell_type": "markdown",
   "metadata": {
    "id": "aTb-KlbrmTH6"
   },
   "source": [
    "There are 18 different classes or categories (target). However; it is observed that some classes are contained in others. For instance, ‘Credit card’ and ‘Prepaid card’ are contained in ‘Credit card or prepaid card’ category. Now, imagine there is a new complaint about Credit card and we want to classify it. The algorithm can either classify this complaint as 'Credit card' or 'Credit card or prepaid' and it would be correct. Nevertheless, this would affect model performance. In order to avoid this problem, the names of some categories were renamed."
   ]
  },
  {
   "cell_type": "code",
   "execution_count": null,
   "metadata": {
    "execution": {
     "iopub.execute_input": "2021-12-01T06:46:21.035805Z",
     "iopub.status.busy": "2021-12-01T06:46:21.035201Z",
     "iopub.status.idle": "2021-12-01T06:46:21.056410Z",
     "shell.execute_reply": "2021-12-01T06:46:21.055652Z",
     "shell.execute_reply.started": "2021-12-01T06:46:21.035456Z"
    },
    "id": "Vd-zBdQmmTH8"
   },
   "outputs": [],
   "source": [
    "# Because the computation is time consuming (in terms of CPU), the data was sampled\n",
    "df2 = df1.sample(10000, random_state=1).copy()"
   ]
  },
  {
   "cell_type": "code",
   "execution_count": null,
   "metadata": {
    "execution": {
     "iopub.execute_input": "2021-12-01T06:46:21.870551Z",
     "iopub.status.busy": "2021-12-01T06:46:21.869976Z",
     "iopub.status.idle": "2021-12-01T06:46:21.885900Z",
     "shell.execute_reply": "2021-12-01T06:46:21.884791Z",
     "shell.execute_reply.started": "2021-12-01T06:46:21.870501Z"
    },
    "id": "Ce2NFJqgmTH9"
   },
   "outputs": [],
   "source": [
    "# Renaming categories\n",
    "df2.replace({'Product':\n",
    "             {'Credit reporting, credit repair services, or other personal consumer reports':\n",
    "              'Credit reporting, repair, or other',\n",
    "              'Credit reporting': 'Credit reporting, repair, or other',\n",
    "             'Credit card': 'Credit card or prepaid card',\n",
    "             'Prepaid card': 'Credit card or prepaid card',\n",
    "             'Payday loan': 'Payday loan, title loan, or personal loan',\n",
    "             'Money transfer': 'Money transfer, virtual currency, or money service',\n",
    "             'Virtual currency': 'Money transfer, virtual currency, or money service'}},\n",
    "            inplace= True)"
   ]
  },
  {
   "cell_type": "code",
   "execution_count": null,
   "metadata": {},
   "outputs": [],
   "source": [
    "# we need to classify the data into four categories only \n",
    "categories = ['Credit reporting, repair, or other','Debt collection','Consumer Loan','Mortgage']\n",
    "\n",
    "df2 = df2[df2['Product'].isin(categories)]\n",
    "df2['Product'].unique()"
   ]
  },
  {
   "cell_type": "code",
   "execution_count": null,
   "metadata": {
    "execution": {
     "iopub.execute_input": "2021-12-01T06:46:29.497929Z",
     "iopub.status.busy": "2021-12-01T06:46:29.497612Z",
     "iopub.status.idle": "2021-12-01T06:46:29.512582Z",
     "shell.execute_reply": "2021-12-01T06:46:29.511738Z",
     "shell.execute_reply.started": "2021-12-01T06:46:29.497872Z"
    },
    "id": "zxHavf0ymTH_"
   },
   "outputs": [],
   "source": [
    "pd.DataFrame(df2.Product.unique())"
   ]
  },
  {
   "cell_type": "markdown",
   "metadata": {
    "id": "_2uLbizAmTIA"
   },
   "source": [
    "The number of classes were reduced from 18 to 13. <br><br>Now we need to represent each class as a number, so as our predictive model can better understand the different categories."
   ]
  },
  {
   "cell_type": "code",
   "execution_count": null,
   "metadata": {
    "execution": {
     "iopub.execute_input": "2021-12-01T06:46:37.604333Z",
     "iopub.status.busy": "2021-12-01T06:46:37.603760Z",
     "iopub.status.idle": "2021-12-01T06:46:37.629069Z",
     "shell.execute_reply": "2021-12-01T06:46:37.628493Z",
     "shell.execute_reply.started": "2021-12-01T06:46:37.604009Z"
    },
    "id": "DSeaosNwmTIB"
   },
   "outputs": [],
   "source": [
    "# Create a new column 'category_id' with encoded categories\n",
    "df2['category_id'] = df2['Product'].factorize()[0]\n",
    "category_id_df = df2[['Product', 'category_id']].drop_duplicates()\n",
    "\n",
    "\n",
    "# Dictionaries for future use\n",
    "category_to_id = dict(category_id_df.values)\n",
    "id_to_category = dict(category_id_df[['category_id', 'Product']].values)\n",
    "\n",
    "# New dataframe\n",
    "df2.head()"
   ]
  },
  {
   "cell_type": "code",
   "execution_count": null,
   "metadata": {
    "execution": {
     "iopub.execute_input": "2021-12-01T06:46:41.531977Z",
     "iopub.status.busy": "2021-12-01T06:46:41.531354Z",
     "iopub.status.idle": "2021-12-01T06:46:42.031291Z",
     "shell.execute_reply": "2021-12-01T06:46:42.030519Z",
     "shell.execute_reply.started": "2021-12-01T06:46:41.531924Z"
    },
    "id": "w3vj2m6mmTIC"
   },
   "outputs": [],
   "source": [
    "fig = plt.figure(figsize=(8,6))\n",
    "colors = ['grey','grey','grey','grey','grey','grey','grey','grey','grey',\n",
    "    'grey','darkblue','darkblue','darkblue']\n",
    "df2.groupby('Product').Consumer_complaint.count().sort_values().plot.barh(\n",
    "    ylim=0, color=colors, title= 'NUMBER OF COMPLAINTS IN EACH PRODUCT CATEGORY\\n')\n",
    "plt.xlabel('Number of ocurrences', fontsize = 10);"
   ]
  },
  {
   "cell_type": "code",
   "execution_count": null,
   "metadata": {
    "execution": {
     "iopub.execute_input": "2021-12-01T06:46:46.868250Z",
     "iopub.status.busy": "2021-12-01T06:46:46.867697Z",
     "iopub.status.idle": "2021-12-01T06:46:53.647057Z",
     "shell.execute_reply": "2021-12-01T06:46:53.646269Z",
     "shell.execute_reply.started": "2021-12-01T06:46:46.868203Z"
    },
    "id": "g6l0ObyZmTIE"
   },
   "outputs": [],
   "source": [
    "tfidf = TfidfVectorizer(sublinear_tf=True, min_df=5,\n",
    "                        ngram_range=(1, 2),\n",
    "                        stop_words='english')\n",
    "\n",
    "# We transform each complaint into a vector\n",
    "features = tfidf.fit_transform(df2.Consumer_complaint).toarray()\n",
    "\n",
    "labels = df2.category_id\n",
    "\n",
    "print(\"Each of the %d complaints is represented by %d features (TF-IDF score of unigrams and bigrams)\" %(features.shape))"
   ]
  },
  {
   "cell_type": "code",
   "execution_count": null,
   "metadata": {
    "execution": {
     "iopub.execute_input": "2021-12-01T06:46:53.648642Z",
     "iopub.status.busy": "2021-12-01T06:46:53.648419Z",
     "iopub.status.idle": "2021-12-01T06:47:08.582298Z",
     "shell.execute_reply": "2021-12-01T06:47:08.581332Z",
     "shell.execute_reply.started": "2021-12-01T06:46:53.648603Z"
    },
    "id": "xWp52-7vmTIH"
   },
   "outputs": [],
   "source": [
    "# Finding the three most correlated terms with each of the product categories\n",
    "N = 3\n",
    "for Product, category_id in sorted(category_to_id.items()):\n",
    "  features_chi2 = chi2(features, labels == category_id)\n",
    "  indices = np.argsort(features_chi2[0])\n",
    "  feature_names = np.array(tfidf.get_feature_names())[indices]\n",
    "  unigrams = [v for v in feature_names if len(v.split(' ')) == 1]\n",
    "  bigrams = [v for v in feature_names if len(v.split(' ')) == 2]\n",
    "  print(\"\\n==> %s:\" %(Product))\n",
    "  print(\"  * Most Correlated Unigrams are: %s\" %(', '.join(unigrams[-N:])))\n",
    "  print(\"  * Most Correlated Bigrams are: %s\" %(', '.join(bigrams[-N:])))"
   ]
  },
  {
   "cell_type": "markdown",
   "metadata": {
    "id": "n_6aTpVJmTII"
   },
   "source": [
    "<a id='sp'></a>\n",
    "### Spliting the data into train and test sets\n",
    "The original data was divided into features (X) and target (y), which were then splitted into train (75%) and test (25%) sets. Thus, the algorithms would be trained on one set of data and tested out on a completely different set of data (not seen before by the algorithm)."
   ]
  },
  {
   "cell_type": "code",
   "execution_count": null,
   "metadata": {
    "execution": {
     "iopub.execute_input": "2021-12-01T06:47:20.079228Z",
     "iopub.status.busy": "2021-12-01T06:47:20.078938Z",
     "iopub.status.idle": "2021-12-01T06:47:20.088398Z",
     "shell.execute_reply": "2021-12-01T06:47:20.087448Z",
     "shell.execute_reply.started": "2021-12-01T06:47:20.079182Z"
    },
    "id": "8EQxucjimTIJ"
   },
   "outputs": [],
   "source": [
    "X = df2['Consumer_complaint'] # Collection of documents\n",
    "y = df2['Product'] # Target or the labels we want to predict (i.e., the 13 different complaints of products)\n",
    "\n",
    "X_train, X_test, y_train, y_test = train_test_split(X, y,\n",
    "                                                    test_size=0.25,\n",
    "                                                    random_state = 0)"
   ]
  },
  {
   "cell_type": "markdown",
   "metadata": {
    "id": "T5rBFcqTmTIK"
   },
   "source": [
    "<a id='m'></a>\n",
    "### Models"
   ]
  },
  {
   "cell_type": "code",
   "execution_count": null,
   "metadata": {
    "execution": {
     "iopub.execute_input": "2021-12-01T06:47:26.950727Z",
     "iopub.status.busy": "2021-12-01T06:47:26.950439Z",
     "iopub.status.idle": "2021-12-01T06:49:17.969145Z",
     "shell.execute_reply": "2021-12-01T06:49:17.968261Z",
     "shell.execute_reply.started": "2021-12-01T06:47:26.950677Z"
    },
    "id": "KYbe2e4gmTIM"
   },
   "outputs": [],
   "source": [
    "models = [\n",
    "    RandomForestClassifier(n_estimators=100, max_depth=5, random_state=0),\n",
    "    LinearSVC(),\n",
    "]\n",
    "\n",
    "# 5 Cross-validation\n",
    "CV = 5\n",
    "cv_df = pd.DataFrame(index=range(CV * len(models)))\n",
    "\n",
    "entries = []\n",
    "for model in models:\n",
    "  model_name = model.__class__.__name__\n",
    "  accuracies = cross_val_score(model, features, labels, scoring='accuracy', cv=CV)\n",
    "  for fold_idx, accuracy in enumerate(accuracies):\n",
    "    entries.append((model_name, fold_idx, accuracy))\n",
    "\n",
    "cv_df = pd.DataFrame(entries, columns=['model_name', 'fold_idx', 'accuracy'])"
   ]
  },
  {
   "cell_type": "markdown",
   "metadata": {
    "id": "TRv1C36MmTIO"
   },
   "source": [
    "<a id='sum'></a>\n",
    "## Comparison of model performance\n",
    "\n",
    "The best mean acuracy was obtained with LinearSVC."
   ]
  },
  {
   "cell_type": "code",
   "execution_count": null,
   "metadata": {
    "execution": {
     "iopub.execute_input": "2021-12-01T06:50:58.832194Z",
     "iopub.status.busy": "2021-12-01T06:50:58.831855Z",
     "iopub.status.idle": "2021-12-01T06:50:58.852692Z",
     "shell.execute_reply": "2021-12-01T06:50:58.851886Z",
     "shell.execute_reply.started": "2021-12-01T06:50:58.832154Z"
    },
    "id": "cpEA-fmamTIQ"
   },
   "outputs": [],
   "source": [
    "mean_accuracy = cv_df.groupby('model_name').accuracy.mean()\n",
    "std_accuracy = cv_df.groupby('model_name').accuracy.std()\n",
    "\n",
    "acc = pd.concat([mean_accuracy, std_accuracy], axis= 1,\n",
    "          ignore_index=True)\n",
    "acc.columns = ['Mean Accuracy', 'Standard deviation']\n",
    "acc"
   ]
  },
  {
   "cell_type": "code",
   "execution_count": null,
   "metadata": {
    "execution": {
     "iopub.execute_input": "2021-12-01T06:51:04.859070Z",
     "iopub.status.busy": "2021-12-01T06:51:04.858771Z",
     "iopub.status.idle": "2021-12-01T06:51:05.131265Z",
     "shell.execute_reply": "2021-12-01T06:51:05.130471Z",
     "shell.execute_reply.started": "2021-12-01T06:51:04.859026Z"
    },
    "id": "_dwK0UZGmTIS"
   },
   "outputs": [],
   "source": [
    "plt.figure(figsize=(8,5))\n",
    "sns.boxplot(x='model_name', y='accuracy',\n",
    "            data=cv_df,\n",
    "            color='lightblue',\n",
    "            showmeans=True)\n",
    "plt.title(\"MEAN ACCURACY (cv = 5)\\n\", size=14);"
   ]
  },
  {
   "cell_type": "markdown",
   "metadata": {
    "id": "3YGcKpkLmTIT"
   },
   "source": [
    "<a id='ev'></a>\n",
    "## Model Evaluation"
   ]
  },
  {
   "cell_type": "code",
   "execution_count": null,
   "metadata": {
    "execution": {
     "iopub.execute_input": "2021-12-01T06:51:10.273144Z",
     "iopub.status.busy": "2021-12-01T06:51:10.272596Z",
     "iopub.status.idle": "2021-12-01T06:51:13.052548Z",
     "shell.execute_reply": "2021-12-01T06:51:13.051149Z",
     "shell.execute_reply.started": "2021-12-01T06:51:10.273101Z"
    },
    "id": "w1qjuXIqmTIU"
   },
   "outputs": [],
   "source": [
    "X_train, X_test, y_train, y_test,indices_train,indices_test = train_test_split(features,\n",
    "                                                               labels,\n",
    "                                                               df2.index, test_size=0.25,\n",
    "                                                               random_state=1)\n",
    "model = LinearSVC()\n",
    "model.fit(X_train, y_train)\n",
    "y_pred = model.predict(X_test)"
   ]
  },
  {
   "cell_type": "markdown",
   "metadata": {
    "id": "XXcVZLtkmTIW"
   },
   "source": [
    "<a id='m'></a>\n",
    "### Precision, Recall, F1-score"
   ]
  },
  {
   "cell_type": "code",
   "execution_count": null,
   "metadata": {
    "execution": {
     "iopub.execute_input": "2021-12-01T06:51:19.267455Z",
     "iopub.status.busy": "2021-12-01T06:51:19.267131Z",
     "iopub.status.idle": "2021-12-01T06:51:19.286626Z",
     "shell.execute_reply": "2021-12-01T06:51:19.285688Z",
     "shell.execute_reply.started": "2021-12-01T06:51:19.267377Z"
    },
    "id": "ZN5xjMTnmTIY"
   },
   "outputs": [],
   "source": [
    "# Classification report\n",
    "print('\\t\\t\\t\\tCLASSIFICATIION METRICS\\n')\n",
    "print(metrics.classification_report(y_test, y_pred,\n",
    "                                    target_names= df2['Product'].unique()))"
   ]
  },
  {
   "cell_type": "markdown",
   "metadata": {
    "id": "RPVQt-8ZmTIZ"
   },
   "source": [
    "<a id='cm'></a>\n",
    "### Confusion Matrix\n",
    "\n",
    "A Confusion Matrix is a table which rows represent the actual class and columns represents the predicted class.<br><br>\n",
    "If we had a perfect model that always classifies correctly a new complaint, then the confusion matrix would have values in the diagonal only (where predicted label = actual label)."
   ]
  },
  {
   "cell_type": "code",
   "execution_count": null,
   "metadata": {
    "execution": {
     "iopub.execute_input": "2021-12-01T06:51:38.363344Z",
     "iopub.status.busy": "2021-12-01T06:51:38.362860Z",
     "iopub.status.idle": "2021-12-01T06:51:40.107255Z",
     "shell.execute_reply": "2021-12-01T06:51:40.106513Z",
     "shell.execute_reply.started": "2021-12-01T06:51:38.363305Z"
    },
    "id": "WCH7HJ0nmTIb"
   },
   "outputs": [],
   "source": [
    "conf_mat = confusion_matrix(y_test, y_pred)\n",
    "fig, ax = plt.subplots(figsize=(8,8))\n",
    "sns.heatmap(conf_mat, annot=True, cmap=\"Blues\", fmt='d',\n",
    "            xticklabels=category_id_df.Product.values,\n",
    "            yticklabels=category_id_df.Product.values)\n",
    "plt.ylabel('Actual')\n",
    "plt.xlabel('Predicted')\n",
    "plt.title(\"CONFUSION MATRIX - LinearSVC\\n\", size=16);"
   ]
  },
  {
   "cell_type": "markdown",
   "metadata": {
    "id": "KuJSj8agmTIc"
   },
   "source": [
    "In general, the confusion matrix looks good (clear diagonal that represents correct classifications). Nevertheless, there are cases were the complaint was classified in a wrong class.\n",
    "\n",
    "#### Misclassified complaints\n",
    "Let’s have a look at the cases that were wrongly classified."
   ]
  },
  {
   "cell_type": "code",
   "execution_count": null,
   "metadata": {
    "execution": {
     "iopub.execute_input": "2021-12-01T06:51:47.029095Z",
     "iopub.status.busy": "2021-12-01T06:51:47.028806Z",
     "iopub.status.idle": "2021-12-01T06:51:47.153458Z",
     "shell.execute_reply": "2021-12-01T06:51:47.151968Z",
     "shell.execute_reply.started": "2021-12-01T06:51:47.029049Z"
    },
    "id": "mUnbuAyumTIe"
   },
   "outputs": [],
   "source": [
    "for predicted in category_id_df.category_id:\n",
    "  for actual in category_id_df.category_id:\n",
    "    if predicted != actual and conf_mat[actual, predicted] >= 20:\n",
    "      print(\"'{}' predicted as '{}' : {} examples.\".format(id_to_category[actual],\n",
    "                                                           id_to_category[predicted],\n",
    "                                                           conf_mat[actual, predicted]))\n",
    "\n",
    "      display(df2.loc[indices_test[(y_test == actual) & (y_pred == predicted)]][['Product',\n",
    "                                                                'Consumer_complaint']])\n",
    "      print('')"
   ]
  },
  {
   "cell_type": "markdown",
   "metadata": {
    "id": "h5_WYZh2mTIg"
   },
   "source": [
    "#### Most correlated terms with each category"
   ]
  },
  {
   "cell_type": "code",
   "execution_count": null,
   "metadata": {
    "execution": {
     "iopub.execute_input": "2021-12-01T06:52:06.612914Z",
     "iopub.status.busy": "2021-12-01T06:52:06.612260Z",
     "iopub.status.idle": "2021-12-01T06:52:09.520758Z",
     "shell.execute_reply": "2021-12-01T06:52:09.519874Z",
     "shell.execute_reply.started": "2021-12-01T06:52:06.612853Z"
    },
    "id": "DwtO3yHZmTIu"
   },
   "outputs": [],
   "source": [
    "model.fit(features, labels)\n",
    "\n",
    "N = 4\n",
    "for Product, category_id in sorted(category_to_id.items()):\n",
    "  indices = np.argsort(model.coef_[category_id])\n",
    "  feature_names = np.array(tfidf.get_feature_names())[indices]\n",
    "  unigrams = [v for v in reversed(feature_names) if len(v.split(' ')) == 1][:N]\n",
    "  bigrams = [v for v in reversed(feature_names) if len(v.split(' ')) == 2][:N]\n",
    "  print(\"\\n==> '{}':\".format(Product))\n",
    "  print(\"  * Top unigrams: %s\" %(', '.join(unigrams)))\n",
    "  print(\"  * Top bigrams: %s\" %(', '.join(bigrams)))"
   ]
  },
  {
   "cell_type": "markdown",
   "metadata": {
    "id": "Pfaupc_imTIv"
   },
   "source": [
    "<a id='pred'></a>\n",
    "## Predictions\n",
    "\n",
    "Now let's make a few predictions on unseen data.<br>"
   ]
  },
  {
   "cell_type": "code",
   "execution_count": null,
   "metadata": {
    "execution": {
     "iopub.execute_input": "2021-12-01T06:52:18.098330Z",
     "iopub.status.busy": "2021-12-01T06:52:18.098020Z",
     "iopub.status.idle": "2021-12-01T06:52:25.372626Z",
     "shell.execute_reply": "2021-12-01T06:52:25.371596Z",
     "shell.execute_reply.started": "2021-12-01T06:52:18.098276Z"
    },
    "id": "Rxv6M9N8mTIw"
   },
   "outputs": [],
   "source": [
    "X_train, X_test, y_train, y_test = train_test_split(X, y,\n",
    "                                                    test_size=0.25,\n",
    "                                                    random_state = 0)\n",
    "\n",
    "tfidf = TfidfVectorizer(sublinear_tf=True, min_df=5,\n",
    "                        ngram_range=(1, 2),\n",
    "                        stop_words='english')\n",
    "\n",
    "fitted_vectorizer = tfidf.fit(X_train)\n",
    "tfidf_vectorizer_vectors = fitted_vectorizer.transform(X_train)\n",
    "\n",
    "model = LinearSVC().fit(tfidf_vectorizer_vectors, y_train)"
   ]
  },
  {
   "cell_type": "markdown",
   "metadata": {
    "id": "7r2gwFU-mTI0"
   },
   "source": [
    "Our model was correct, the complaint was about **Student Loan**. Note that this customer has used terms with high TFIDF score, such us **Navient[](http://)**.<br><br>\n",
    "Let's check another example."
   ]
  },
  {
   "cell_type": "code",
   "execution_count": null,
   "metadata": {
    "execution": {
     "iopub.execute_input": "2021-12-01T06:52:35.939736Z",
     "iopub.status.busy": "2021-12-01T06:52:35.939016Z",
     "iopub.status.idle": "2021-12-01T06:52:35.946852Z",
     "shell.execute_reply": "2021-12-01T06:52:35.945715Z",
     "shell.execute_reply.started": "2021-12-01T06:52:35.939345Z"
    },
    "id": "NvBhtf9qmTI1"
   },
   "outputs": [],
   "source": [
    "new_complaint_2 = \"\"\"Equifax exposed my personal information without my consent, as part of their recent data breach. \\\n",
    "In addition, they dragged their feet in the announcement of the report, and even allowed their upper management to sell \\\n",
    "off stock before the announcement.\"\"\"\n",
    "print(model.predict(fitted_vectorizer.transform([new_complaint_2])))"
   ]
  },
  {
   "cell_type": "code",
   "execution_count": null,
   "metadata": {
    "execution": {
     "iopub.execute_input": "2021-12-01T06:52:41.228435Z",
     "iopub.status.busy": "2021-12-01T06:52:41.228153Z",
     "iopub.status.idle": "2021-12-01T06:52:41.248723Z",
     "shell.execute_reply": "2021-12-01T06:52:41.247672Z",
     "shell.execute_reply.started": "2021-12-01T06:52:41.228383Z"
    },
    "id": "ISLIZ8bamTI2"
   },
   "outputs": [],
   "source": [
    "df2[df2['Consumer_complaint'] == new_complaint_2]"
   ]
  },
  {
   "cell_type": "code",
   "execution_count": null,
   "metadata": {
    "id": "BY0OVMBnmTI3"
   },
   "outputs": [],
   "source": []
  },
  {
   "cell_type": "code",
   "execution_count": null,
   "metadata": {},
   "outputs": [],
   "source": []
  },
  {
   "cell_type": "code",
   "execution_count": null,
   "metadata": {},
   "outputs": [],
   "source": []
  },
  {
   "cell_type": "code",
   "execution_count": null,
   "metadata": {},
   "outputs": [],
   "source": []
  }
 ],
 "metadata": {
  "colab": {
   "provenance": []
  },
  "kernelspec": {
   "display_name": "Python 3 (ipykernel)",
   "language": "python",
   "name": "python3"
  },
  "language_info": {
   "codemirror_mode": {
    "name": "ipython",
    "version": 3
   },
   "file_extension": ".py",
   "mimetype": "text/x-python",
   "name": "python",
   "nbconvert_exporter": "python",
   "pygments_lexer": "ipython3",
   "version": "3.11.3"
  }
 },
 "nbformat": 4,
 "nbformat_minor": 1
}
